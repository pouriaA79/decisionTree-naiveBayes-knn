{
 "cells": [
  {
   "cell_type": "code",
   "execution_count": 15,
   "metadata": {},
   "outputs": [],
   "source": [
    "import pandas as pd\n",
    "import numpy as np\n",
    "from sklearn.model_selection import train_test_split\n",
    "from sklearn.metrics import accuracy_score\n",
    "from matplotlib import pyplot as plt\n",
    "from sklearn.neighbors import KNeighborsClassifier"
   ]
  },
  {
   "cell_type": "code",
   "execution_count": 16,
   "metadata": {},
   "outputs": [],
   "source": [
    "df=pd.read_csv(\"Dataset2.csv\")\n",
    "# filling missing data\n",
    "column_names=df.columns \n",
    "for a in column_names:\n",
    "    df[a]=df[a].replace('?', np.NaN)    \n",
    "df= df.apply(lambda x: x.fillna(x.value_counts().index[0]))"
   ]
  },
  {
   "cell_type": "code",
   "execution_count": 17,
   "metadata": {},
   "outputs": [
    {
     "name": "stdout",
     "output_type": "stream",
     "text": [
      "Numerical Vaiables:  Index([], dtype='object')\n",
      "Categorical Vaiables:  Index(['poisonous', 'cap-shape', 'cap-surface', 'cap-color', 'bruises', 'odor',\n",
      "       'gill-attachment', 'gill-spacing', 'gill-size', 'gill-color',\n",
      "       'stalk-shape', 'stalk-root', 'stalk-surface-above-ring',\n",
      "       'stalk-surface-below-ring', 'stalk-color-above-ring',\n",
      "       'stalk-color-below-ring', 'veil-type', 'veil-color', 'ring-number',\n",
      "       'ring-type', 'spore-print-color', 'population', 'habitat'],\n",
      "      dtype='object')\n"
     ]
    }
   ],
   "source": [
    "num_data = df.select_dtypes(include=['int64'])\n",
    "cat_data = df.select_dtypes(include=['object'])\n",
    "\n",
    "num_columns = num_data.columns\n",
    "cat_columns = cat_data.columns\n",
    "\n",
    "print(\"Numerical Vaiables: \", num_columns)\n",
    "print(\"Categorical Vaiables: \", cat_columns)"
   ]
  },
  {
   "cell_type": "code",
   "execution_count": 18,
   "metadata": {
    "scrolled": true
   },
   "outputs": [
    {
     "name": "stdout",
     "output_type": "stream",
     "text": [
      "---- poisonous ---\n",
      "e    3383\n",
      "p    3116\n",
      "Name: poisonous, dtype: int64\n",
      "---- cap-shape ---\n",
      "x    2894\n",
      "f    2542\n",
      "k     671\n",
      "b     362\n",
      "s      26\n",
      "c       4\n",
      "Name: cap-shape, dtype: int64\n",
      "---- cap-surface ---\n",
      "y    2605\n",
      "s    2026\n",
      "f    1865\n",
      "g       3\n",
      "Name: cap-surface, dtype: int64\n",
      "---- cap-color ---\n",
      "n    1845\n",
      "g    1487\n",
      "e    1175\n",
      "y     853\n",
      "w     827\n",
      "b     129\n",
      "p     121\n",
      "c      37\n",
      "u      14\n",
      "r      11\n",
      "Name: cap-color, dtype: int64\n",
      "---- bruises ---\n",
      "f    3777\n",
      "t    2722\n",
      "Name: bruises, dtype: int64\n",
      "---- odor ---\n",
      "n    2828\n",
      "f    1728\n",
      "y     461\n",
      "s     461\n",
      "l     326\n",
      "a     321\n",
      "p     199\n",
      "c     147\n",
      "m      28\n",
      "Name: odor, dtype: int64\n",
      "---- gill-attachment ---\n",
      "f    6330\n",
      "a     169\n",
      "Name: gill-attachment, dtype: int64\n",
      "---- gill-spacing ---\n",
      "c    5450\n",
      "w    1049\n",
      "Name: gill-spacing, dtype: int64\n",
      "---- gill-size ---\n",
      "b    4508\n",
      "n    1991\n",
      "Name: gill-size, dtype: int64\n",
      "---- gill-color ---\n",
      "b    1372\n",
      "p    1198\n",
      "w     979\n",
      "n     863\n",
      "h     590\n",
      "g     574\n",
      "u     394\n",
      "k     310\n",
      "e      72\n",
      "y      72\n",
      "o      56\n",
      "r      19\n",
      "Name: gill-color, dtype: int64\n",
      "---- stalk-shape ---\n",
      "t    3705\n",
      "e    2794\n",
      "Name: stalk-shape, dtype: int64\n",
      "---- stalk-root ---\n",
      "b    5005\n",
      "e     891\n",
      "c     453\n",
      "r     150\n",
      "Name: stalk-root, dtype: int64\n",
      "---- stalk-surface-above-ring ---\n",
      "s    4131\n",
      "k    1901\n",
      "f     446\n",
      "y      21\n",
      "Name: stalk-surface-above-ring, dtype: int64\n",
      "---- stalk-surface-below-ring ---\n",
      "s    3932\n",
      "k    1854\n",
      "f     489\n",
      "y     224\n",
      "Name: stalk-surface-below-ring, dtype: int64\n",
      "---- stalk-color-above-ring ---\n",
      "w    3569\n",
      "p    1480\n",
      "g     468\n",
      "n     359\n",
      "b     356\n",
      "o     155\n",
      "e      76\n",
      "c      28\n",
      "y       8\n",
      "Name: stalk-color-above-ring, dtype: int64\n",
      "---- stalk-color-below-ring ---\n",
      "w    3515\n",
      "p    1481\n",
      "g     473\n",
      "n     411\n",
      "b     341\n",
      "o     155\n",
      "e      74\n",
      "c      28\n",
      "y      21\n",
      "Name: stalk-color-below-ring, dtype: int64\n",
      "---- veil-type ---\n",
      "p    6499\n",
      "Name: veil-type, dtype: int64\n",
      "---- veil-color ---\n",
      "w    6336\n",
      "n      81\n",
      "o      74\n",
      "y       8\n",
      "Name: veil-color, dtype: int64\n",
      "---- ring-number ---\n",
      "o    6002\n",
      "t     469\n",
      "n      28\n",
      "Name: ring-number, dtype: int64\n",
      "---- ring-type ---\n",
      "p    3192\n",
      "e    2207\n",
      "l    1036\n",
      "f      36\n",
      "n      28\n",
      "Name: ring-type, dtype: int64\n",
      "---- spore-print-color ---\n",
      "w    1895\n",
      "n    1584\n",
      "k    1500\n",
      "h    1314\n",
      "r      52\n",
      "u      40\n",
      "b      40\n",
      "y      38\n",
      "o      36\n",
      "Name: spore-print-color, dtype: int64\n",
      "---- population ---\n",
      "v    3232\n",
      "y    1356\n",
      "s    1001\n",
      "n     323\n",
      "a     310\n",
      "c     277\n",
      "Name: population, dtype: int64\n",
      "---- habitat ---\n",
      "d    2541\n",
      "g    1722\n",
      "p     880\n",
      "l     663\n",
      "u     303\n",
      "m     239\n",
      "w     151\n",
      "Name: habitat, dtype: int64\n"
     ]
    }
   ],
   "source": [
    "for c in df.columns:\n",
    "    print (\"---- %s ---\" % c)\n",
    "    print (df[c].value_counts())"
   ]
  },
  {
   "cell_type": "code",
   "execution_count": 19,
   "metadata": {},
   "outputs": [],
   "source": [
    "def mapping(df , flag):\n",
    "    if flag == 0:\n",
    "        df['poisonous']= df['poisonous'].map({'p': 0, 'e': 1}).astype(int)\n",
    "    df['cap-shape']= df['cap-shape'].map({'x': 0, 'f': 1, 'k': 2, 'b': 3,'s': 4, 'c': 5}).astype(int)\n",
    "    df['cap-surface']= df['cap-surface'].map({'y': 0, 's': 1, 'f': 2, 'g': 3}).astype(int)\n",
    "    df['cap-color']= df['cap-color'].map({'n': 0, 'g': 1, 'e': 2, 'y': 3,'w': 4, 'b': 5, 'p': 6, 'c': 7, 'u': 8,'r': 9}).astype(int)\n",
    "    df['bruises']= df['bruises'].map({'f': 0, 't': 1}).astype(int)\n",
    "    df['odor']= df['odor'].map({'n': 0, 'f': 1, 's': 2, 'y': 3,'l': 4, 'a': 5, 'p': 6,'c': 7, 'm': 8}).astype(int)\n",
    "    df['gill-attachment']= df['gill-attachment'].map({'f': 0, 'a': 1}).astype(int)\n",
    "    df['gill-spacing']= df['gill-spacing'].map({'c': 0, 'w': 1}).astype(int)\n",
    "    df['gill-size']= df['gill-size'].map({'b': 0, 'n': 1}).astype(int)\n",
    "    df['gill-color']= df['gill-color'].map({'b': 0, 'p': 1, 'w': 2, 'n': 3,'h': 4, 'g': 5, 'u': 6, 'k': 7, 'y': 8,'e': 9, 'o': 10, 'r':11}).astype(int)\n",
    "    df['stalk-shape']= df['stalk-shape'].map({'t': 0, 'e': 1}).astype(int)\n",
    "    df['stalk-root']= df['stalk-root'].map({'b': 0, 'e': 1, 'c': 2, 'r': 3}).astype(int)\n",
    "    df['stalk-surface-above-ring']= df['stalk-surface-above-ring'].map({'s': 0, 'k': 1, 'f': 2, 'y': 3}).astype(int)\n",
    "    df['stalk-surface-below-ring']= df['stalk-surface-below-ring'].map({'s': 0, 'k': 1, 'f': 2, 'y': 3}).astype(int)\n",
    "    df['stalk-color-above-ring']= df['stalk-color-above-ring'].map({'w': 0, 'p': 1, 'g': 2, 'n': 3,'b': 4, 'o': 5, 'y': 6, 'c': 7,'e': 8}).astype(int)\n",
    "    df['stalk-color-below-ring']= df['stalk-color-below-ring'].map({'w': 0, 'p': 1, 'g': 2, 'n': 3,'b': 4, 'o': 5, 'y': 6, 'c': 7,'e': 8}).astype(int)\n",
    "    df['veil-type']= df['veil-type'].map({'p': 0}).astype(int)\n",
    "    df['veil-color']= df['veil-color'].map({'w': 0, 'n': 1, 'o': 2, 'y': 3}).astype(int)\n",
    "    df['ring-number']= df['ring-number'].map({'o': 0, 'n': 1, 't': 2}).astype(int)\n",
    "    df['ring-type']= df['ring-type'].map({'p': 0, 'e': 1, 'l': 2, 'f': 3, 'n': 4}).astype(int)\n",
    "    df['spore-print-color']= df['spore-print-color'].map({'w': 0, 'n': 1, 'k': 2, 'h': 3,'r': 4, 'b': 5, 'u': 6, 'y': 7, 'o': 8}).astype(int)\n",
    "    df['population']= df['population'].map({'v': 0, 'y': 1, 's': 2, 'a': 3, 'n': 4, 'c': 5}).astype(int)\n",
    "    df['habitat']= df['habitat'].map({'d': 0, 'p': 1, 'g': 2, 'l': 3,'u': 4, 'm': 5, 'w': 6}).astype(int)\n",
    "    return df\n",
    "    "
   ]
  },
  {
   "cell_type": "code",
   "execution_count": 20,
   "metadata": {},
   "outputs": [],
   "source": [
    "df = mapping(df , 0)"
   ]
  },
  {
   "cell_type": "code",
   "execution_count": 21,
   "metadata": {},
   "outputs": [],
   "source": [
    "X = df.drop('poisonous', axis=1)\n",
    "y = df['poisonous']\n",
    "# Splitting to training and testing\n",
    "X_train, X_test, y_train, y_test = train_test_split(X, y, test_size=0.2)"
   ]
  },
  {
   "cell_type": "code",
   "execution_count": 22,
   "metadata": {},
   "outputs": [
    {
     "name": "stdout",
     "output_type": "stream",
     "text": [
      "accurcy for 3 is  100.0\n"
     ]
    }
   ],
   "source": [
    "neigh_3 = KNeighborsClassifier(n_neighbors=3)\n",
    "neigh_3.fit(X_train, y_train)\n",
    "y_pred_3 = neigh_3.predict(X_test)\n",
    "print(\"accurcy for 3 is \", accuracy_score(y_test,y_pred_3)*100)\n"
   ]
  },
  {
   "cell_type": "code",
   "execution_count": 23,
   "metadata": {},
   "outputs": [
    {
     "name": "stdout",
     "output_type": "stream",
     "text": [
      "accurcy for 5 is  99.92307692307692\n"
     ]
    }
   ],
   "source": [
    "neigh_5 = KNeighborsClassifier(n_neighbors=5)\n",
    "neigh_5.fit(X_train, y_train)\n",
    "y_pred_5 = neigh_5.predict(X_test)\n",
    "print(\"accurcy for 5 is \", accuracy_score(y_test,y_pred_5)*100)\n"
   ]
  },
  {
   "cell_type": "code",
   "execution_count": 24,
   "metadata": {},
   "outputs": [
    {
     "name": "stdout",
     "output_type": "stream",
     "text": [
      "accurcy for 10 is  99.6923076923077\n"
     ]
    }
   ],
   "source": [
    "neigh_10 = KNeighborsClassifier(n_neighbors=10)\n",
    "neigh_10.fit(X_train, y_train)\n",
    "y_pred_10 = neigh_10.predict(X_test)\n",
    "print(\"accurcy for 10 is \", accuracy_score(y_test,y_pred_10)*100)\n"
   ]
  },
  {
   "cell_type": "code",
   "execution_count": 25,
   "metadata": {},
   "outputs": [],
   "source": [
    "df_test=pd.read_csv(\"Dataset2_Unknown.csv\")\n",
    "# filling missing data\n",
    "column_names=df_test.columns \n",
    "for a in column_names:\n",
    "    df_test[a]=df_test[a].replace('?', np.NaN)\n",
    "    \n",
    "df_test= df_test.apply(lambda x: x.fillna(x.value_counts().index[0]))"
   ]
  },
  {
   "cell_type": "code",
   "execution_count": 26,
   "metadata": {},
   "outputs": [],
   "source": [
    "df_test = mapping(df_test ,1 )"
   ]
  },
  {
   "cell_type": "code",
   "execution_count": 27,
   "metadata": {},
   "outputs": [],
   "source": [
    "y_pred_test_10 = neigh_10.predict(df_test)\n",
    "y_pred_test_5 = neigh_5.predict(df_test)\n",
    "y_pred_test_3 = neigh_3.predict(df_test)"
   ]
  },
  {
   "cell_type": "code",
   "execution_count": 30,
   "metadata": {},
   "outputs": [],
   "source": [
    "np.savetxt(\"k_3.csv\", y_pred_test_3, delimiter=\",\")\n",
    "np.savetxt(\"k_5.csv\", y_pred_test_5, delimiter=\",\")\n",
    "np.savetxt(\"k_10.csv\", y_pred_test_10, delimiter=\",\")\n",
    "\n",
    "y_predict_3 = []\n",
    "y_predict_5 = []\n",
    "y_predict_10 = []\n",
    "for i in range(len(y_pred_test_10)):\n",
    "    if y_pred_test_3[i] == 0:\n",
    "        y_predict_3.append('p')\n",
    "    else:\n",
    "        y_predict_3.append('e')\n",
    "    \n",
    "    if y_pred_test_5[i] == 0:\n",
    "        y_predict_5.append('p')\n",
    "    else:\n",
    "        y_predict_5.append('e')\n",
    "    \n",
    "    if y_pred_test_10[i] == 0:\n",
    "        y_predict_10.append('p')\n",
    "    else:\n",
    "        y_predict_10.append('e')\n",
    "\n",
    "        \n",
    "        \n",
    "df_k3 = pd.DataFrame(y_predict_3) \n",
    "df_k5 = pd.DataFrame(y_predict_5)\n",
    "df_k10 = pd.DataFrame(y_predict_10)\n",
    "\n",
    "df_k3.to_csv('k3_predict.csv')\n",
    "df_k5.to_csv('k5_predicte.csv')\n",
    "df_k10.to_csv('k10_predicte.csv')\n",
    "\n",
    "\n",
    "\n"
   ]
  },
  {
   "cell_type": "code",
   "execution_count": null,
   "metadata": {},
   "outputs": [],
   "source": []
  }
 ],
 "metadata": {
  "kernelspec": {
   "display_name": "Python 3",
   "language": "python",
   "name": "python3"
  },
  "language_info": {
   "codemirror_mode": {
    "name": "ipython",
    "version": 3
   },
   "file_extension": ".py",
   "mimetype": "text/x-python",
   "name": "python",
   "nbconvert_exporter": "python",
   "pygments_lexer": "ipython3",
   "version": "3.6.10"
  }
 },
 "nbformat": 4,
 "nbformat_minor": 4
}
