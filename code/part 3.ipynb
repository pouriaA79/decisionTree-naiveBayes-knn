{
 "cells": [
  {
   "cell_type": "code",
   "execution_count": 57,
   "metadata": {},
   "outputs": [],
   "source": [
    "import pandas as pd\n",
    "import numpy as np\n",
    "from sklearn.model_selection import train_test_split\n",
    "from sklearn.metrics import accuracy_score\n",
    "from matplotlib import pyplot as plt\n",
    "from sklearn.naive_bayes import GaussianNB"
   ]
  },
  {
   "cell_type": "code",
   "execution_count": 58,
   "metadata": {},
   "outputs": [],
   "source": [
    "df=pd.read_csv(\"Dataset3.csv\")\n",
    "# filling missing data\n",
    "column_names=df.columns \n",
    "for a in column_names:\n",
    "    df[a]=df[a].replace('?', np.NaN)    \n",
    "df= df.apply(lambda x: x.fillna(x.value_counts().index[0]))"
   ]
  },
  {
   "cell_type": "code",
   "execution_count": 59,
   "metadata": {},
   "outputs": [
    {
     "name": "stdout",
     "output_type": "stream",
     "text": [
      "Numerical Vaiables:  Index(['age', 'sex', 'cp', 'trestbps', 'chol', 'fbs', 'restecg', 'thalach',\n",
      "       'exang', 'slope', 'ca', 'thal', 'disease'],\n",
      "      dtype='object')\n",
      "Categorical Vaiables:  Index([], dtype='object')\n"
     ]
    }
   ],
   "source": [
    "num_data = df.select_dtypes(include=['int64'])\n",
    "cat_data = df.select_dtypes(include=['object'])\n",
    "\n",
    "num_columns = num_data.columns\n",
    "cat_columns = cat_data.columns\n",
    "\n",
    "print(\"Numerical Vaiables: \", num_columns)\n",
    "print(\"Categorical Vaiables: \", cat_columns)"
   ]
  },
  {
   "cell_type": "code",
   "execution_count": 60,
   "metadata": {
    "scrolled": false
   },
   "outputs": [],
   "source": [
    "# for c in df.columns:\n",
    "#     print (\"---- %s ---\" % c)\n",
    "#     print (df[c].value_counts())"
   ]
  },
  {
   "cell_type": "code",
   "execution_count": 61,
   "metadata": {},
   "outputs": [
    {
     "data": {
      "text/html": [
       "<div>\n",
       "<style scoped>\n",
       "    .dataframe tbody tr th:only-of-type {\n",
       "        vertical-align: middle;\n",
       "    }\n",
       "\n",
       "    .dataframe tbody tr th {\n",
       "        vertical-align: top;\n",
       "    }\n",
       "\n",
       "    .dataframe thead th {\n",
       "        text-align: right;\n",
       "    }\n",
       "</style>\n",
       "<table border=\"1\" class=\"dataframe\">\n",
       "  <thead>\n",
       "    <tr style=\"text-align: right;\">\n",
       "      <th></th>\n",
       "      <th>age</th>\n",
       "      <th>sex</th>\n",
       "      <th>cp</th>\n",
       "      <th>trestbps</th>\n",
       "      <th>chol</th>\n",
       "      <th>fbs</th>\n",
       "      <th>restecg</th>\n",
       "      <th>thalach</th>\n",
       "      <th>exang</th>\n",
       "      <th>oldpeak</th>\n",
       "      <th>slope</th>\n",
       "      <th>ca</th>\n",
       "      <th>thal</th>\n",
       "      <th>disease</th>\n",
       "    </tr>\n",
       "  </thead>\n",
       "  <tbody>\n",
       "    <tr>\n",
       "      <th>count</th>\n",
       "      <td>242.000000</td>\n",
       "      <td>242.000000</td>\n",
       "      <td>242.000000</td>\n",
       "      <td>242.000000</td>\n",
       "      <td>242.000000</td>\n",
       "      <td>242.000000</td>\n",
       "      <td>242.00000</td>\n",
       "      <td>242.000000</td>\n",
       "      <td>242.000000</td>\n",
       "      <td>242.000000</td>\n",
       "      <td>242.000000</td>\n",
       "      <td>242.000000</td>\n",
       "      <td>242.000000</td>\n",
       "      <td>242.000000</td>\n",
       "    </tr>\n",
       "    <tr>\n",
       "      <th>mean</th>\n",
       "      <td>54.797521</td>\n",
       "      <td>0.681818</td>\n",
       "      <td>1.016529</td>\n",
       "      <td>131.921488</td>\n",
       "      <td>247.334711</td>\n",
       "      <td>0.136364</td>\n",
       "      <td>0.53719</td>\n",
       "      <td>150.628099</td>\n",
       "      <td>0.322314</td>\n",
       "      <td>0.997934</td>\n",
       "      <td>1.421488</td>\n",
       "      <td>0.739669</td>\n",
       "      <td>2.322314</td>\n",
       "      <td>0.570248</td>\n",
       "    </tr>\n",
       "    <tr>\n",
       "      <th>std</th>\n",
       "      <td>8.938489</td>\n",
       "      <td>0.466736</td>\n",
       "      <td>1.026483</td>\n",
       "      <td>17.557199</td>\n",
       "      <td>54.119351</td>\n",
       "      <td>0.343886</td>\n",
       "      <td>0.53183</td>\n",
       "      <td>22.195709</td>\n",
       "      <td>0.468331</td>\n",
       "      <td>1.178629</td>\n",
       "      <td>0.621230</td>\n",
       "      <td>1.027827</td>\n",
       "      <td>0.586358</td>\n",
       "      <td>0.496067</td>\n",
       "    </tr>\n",
       "    <tr>\n",
       "      <th>min</th>\n",
       "      <td>34.000000</td>\n",
       "      <td>0.000000</td>\n",
       "      <td>0.000000</td>\n",
       "      <td>94.000000</td>\n",
       "      <td>126.000000</td>\n",
       "      <td>0.000000</td>\n",
       "      <td>0.00000</td>\n",
       "      <td>88.000000</td>\n",
       "      <td>0.000000</td>\n",
       "      <td>0.000000</td>\n",
       "      <td>0.000000</td>\n",
       "      <td>0.000000</td>\n",
       "      <td>0.000000</td>\n",
       "      <td>0.000000</td>\n",
       "    </tr>\n",
       "    <tr>\n",
       "      <th>25%</th>\n",
       "      <td>48.000000</td>\n",
       "      <td>0.000000</td>\n",
       "      <td>0.000000</td>\n",
       "      <td>120.000000</td>\n",
       "      <td>211.000000</td>\n",
       "      <td>0.000000</td>\n",
       "      <td>0.00000</td>\n",
       "      <td>139.250000</td>\n",
       "      <td>0.000000</td>\n",
       "      <td>0.000000</td>\n",
       "      <td>1.000000</td>\n",
       "      <td>0.000000</td>\n",
       "      <td>2.000000</td>\n",
       "      <td>0.000000</td>\n",
       "    </tr>\n",
       "    <tr>\n",
       "      <th>50%</th>\n",
       "      <td>56.000000</td>\n",
       "      <td>1.000000</td>\n",
       "      <td>1.000000</td>\n",
       "      <td>130.000000</td>\n",
       "      <td>243.000000</td>\n",
       "      <td>0.000000</td>\n",
       "      <td>1.00000</td>\n",
       "      <td>154.500000</td>\n",
       "      <td>0.000000</td>\n",
       "      <td>0.600000</td>\n",
       "      <td>1.000000</td>\n",
       "      <td>0.000000</td>\n",
       "      <td>2.000000</td>\n",
       "      <td>1.000000</td>\n",
       "    </tr>\n",
       "    <tr>\n",
       "      <th>75%</th>\n",
       "      <td>61.000000</td>\n",
       "      <td>1.000000</td>\n",
       "      <td>2.000000</td>\n",
       "      <td>140.000000</td>\n",
       "      <td>275.750000</td>\n",
       "      <td>0.000000</td>\n",
       "      <td>1.00000</td>\n",
       "      <td>167.750000</td>\n",
       "      <td>1.000000</td>\n",
       "      <td>1.600000</td>\n",
       "      <td>2.000000</td>\n",
       "      <td>1.000000</td>\n",
       "      <td>3.000000</td>\n",
       "      <td>1.000000</td>\n",
       "    </tr>\n",
       "    <tr>\n",
       "      <th>max</th>\n",
       "      <td>77.000000</td>\n",
       "      <td>1.000000</td>\n",
       "      <td>3.000000</td>\n",
       "      <td>192.000000</td>\n",
       "      <td>564.000000</td>\n",
       "      <td>1.000000</td>\n",
       "      <td>2.00000</td>\n",
       "      <td>195.000000</td>\n",
       "      <td>1.000000</td>\n",
       "      <td>6.200000</td>\n",
       "      <td>2.000000</td>\n",
       "      <td>4.000000</td>\n",
       "      <td>3.000000</td>\n",
       "      <td>1.000000</td>\n",
       "    </tr>\n",
       "  </tbody>\n",
       "</table>\n",
       "</div>"
      ],
      "text/plain": [
       "              age         sex          cp    trestbps        chol         fbs  \\\n",
       "count  242.000000  242.000000  242.000000  242.000000  242.000000  242.000000   \n",
       "mean    54.797521    0.681818    1.016529  131.921488  247.334711    0.136364   \n",
       "std      8.938489    0.466736    1.026483   17.557199   54.119351    0.343886   \n",
       "min     34.000000    0.000000    0.000000   94.000000  126.000000    0.000000   \n",
       "25%     48.000000    0.000000    0.000000  120.000000  211.000000    0.000000   \n",
       "50%     56.000000    1.000000    1.000000  130.000000  243.000000    0.000000   \n",
       "75%     61.000000    1.000000    2.000000  140.000000  275.750000    0.000000   \n",
       "max     77.000000    1.000000    3.000000  192.000000  564.000000    1.000000   \n",
       "\n",
       "         restecg     thalach       exang     oldpeak       slope          ca  \\\n",
       "count  242.00000  242.000000  242.000000  242.000000  242.000000  242.000000   \n",
       "mean     0.53719  150.628099    0.322314    0.997934    1.421488    0.739669   \n",
       "std      0.53183   22.195709    0.468331    1.178629    0.621230    1.027827   \n",
       "min      0.00000   88.000000    0.000000    0.000000    0.000000    0.000000   \n",
       "25%      0.00000  139.250000    0.000000    0.000000    1.000000    0.000000   \n",
       "50%      1.00000  154.500000    0.000000    0.600000    1.000000    0.000000   \n",
       "75%      1.00000  167.750000    1.000000    1.600000    2.000000    1.000000   \n",
       "max      2.00000  195.000000    1.000000    6.200000    2.000000    4.000000   \n",
       "\n",
       "             thal     disease  \n",
       "count  242.000000  242.000000  \n",
       "mean     2.322314    0.570248  \n",
       "std      0.586358    0.496067  \n",
       "min      0.000000    0.000000  \n",
       "25%      2.000000    0.000000  \n",
       "50%      2.000000    1.000000  \n",
       "75%      3.000000    1.000000  \n",
       "max      3.000000    1.000000  "
      ]
     },
     "execution_count": 61,
     "metadata": {},
     "output_type": "execute_result"
    }
   ],
   "source": [
    "df.describe()"
   ]
  },
  {
   "cell_type": "code",
   "execution_count": 62,
   "metadata": {},
   "outputs": [],
   "source": [
    "def oldpeak_group(x):\n",
    "    x = int(x)\n",
    "    if( x == 0 ):\n",
    "        return \"0\"\n",
    "    elif(  x ==1 ):\n",
    "        return \"1\"\n",
    "    elif( x==2 ):\n",
    "        return \"2\"\n",
    "    elif(x ==3):\n",
    "        return \"3\"\n",
    "    if( x == 4 ):\n",
    "        return \"4\"\n",
    "    elif(  x ==5 ):\n",
    "        return \"5\"\n",
    "    else:\n",
    "        return \"6\""
   ]
  },
  {
   "cell_type": "code",
   "execution_count": 63,
   "metadata": {},
   "outputs": [],
   "source": [
    "def thalach_group(x):\n",
    "    x = int(x)\n",
    "    if( 70 < x < 101 ):\n",
    "        return \"71-100\"\n",
    "    elif( 100 < x < 126 ):\n",
    "        return \"101-125\"\n",
    "    elif( 125< x < 151 ):\n",
    "        return \"126-150\"\n",
    "    elif( 150 < x < 176):\n",
    "        return \"151-175\"\n",
    "    else:\n",
    "        return \">175\""
   ]
  },
  {
   "cell_type": "code",
   "execution_count": 64,
   "metadata": {},
   "outputs": [],
   "source": [
    "def trestbps_group(x):\n",
    "    x = int(x)\n",
    "    if( 90 < x < 111 ):\n",
    "        return \"91-110\"\n",
    "    elif( 110 < x < 131 ):\n",
    "        return \"111-130\"\n",
    "    elif( 130< x < 151 ):\n",
    "        return \"131-150\"\n",
    "    elif( 150 < x < 171):\n",
    "        return \"151-170\"\n",
    "    else:\n",
    "        return \">170\""
   ]
  },
  {
   "cell_type": "code",
   "execution_count": 65,
   "metadata": {},
   "outputs": [],
   "source": [
    "def age_group(x):\n",
    "    x = int(x)\n",
    "    if( 30 < x < 41 ):\n",
    "        return \"31-40\"\n",
    "    elif( 40 < x < 51 ):\n",
    "        return \"41-50\"\n",
    "    elif( 50 < x < 56 ):\n",
    "        return \"51-55\"\n",
    "    elif( 55 < x < 61 ):\n",
    "        return \"56-60\"\n",
    "    elif( 60 < x < 71 ):\n",
    "        return \"61-70\"\n",
    "    else:\n",
    "        return \">70\""
   ]
  },
  {
   "cell_type": "code",
   "execution_count": 66,
   "metadata": {},
   "outputs": [],
   "source": [
    "def chol_group(x):\n",
    "    x = int(x)\n",
    "    if( 100 < x < 201 ):\n",
    "        return \"101-200\"\n",
    "    elif( 200 < x < 301 ):\n",
    "        return \"201-300\"\n",
    "    elif( 300< x < 401 ):\n",
    "        return \"301-400\"\n",
    "    elif( 400 < x < 501):\n",
    "        return \"401-500\"\n",
    "    else:\n",
    "        return \">500\""
   ]
  },
  {
   "cell_type": "code",
   "execution_count": 67,
   "metadata": {},
   "outputs": [],
   "source": [
    "def pre_processing (df):\n",
    "    df['chol-group'] = df['chol'].apply(chol_group)\n",
    "    df['age-group'] = df['age'].apply(age_group)    \n",
    "    df['trestbps-group'] = df['trestbps'].apply(trestbps_group) \n",
    "    df['thalach-group'] = df['thalach'].apply(thalach_group) \n",
    "    df['oldpeak-group'] = df['oldpeak'].apply(oldpeak_group) \n",
    "    \n",
    "    df = df.drop(['chol'], axis = 1)\n",
    "    df = df.drop(['age'], axis = 1)\n",
    "    df = df.drop(['trestbps'], axis = 1)\n",
    "    df = df.drop(['thalach'], axis = 1)\n",
    "    df = df.drop(['oldpeak'], axis = 1)\n",
    "\n",
    "    return df"
   ]
  },
  {
   "cell_type": "code",
   "execution_count": 68,
   "metadata": {},
   "outputs": [],
   "source": [
    "def mapping (df, flag):\n",
    "    df['sex'] = df['sex'].astype(int)\n",
    "    df['cp'] = df['cp'].astype(int)\n",
    "    df['fbs'] = df['fbs'].astype(int)\n",
    "    df['restecg'] = df['restecg'].astype(int)\n",
    "    df['exang'] = df['exang'].astype(int)\n",
    "    df['slope'] = df['slope'].astype(int)\n",
    "    df['ca'] = df['ca'].astype(int)\n",
    "    df['thal'] = df['thal'].astype(int)\n",
    "    if flag == 0:\n",
    "        df['disease'] = df['disease'].astype(int)\n",
    "    df['oldpeak-group'] = df['oldpeak-group'].astype(int)\n",
    "    df['age-group'] = df['age-group'].map({'31-40': 0, '41-50': 1, '51-55': 2, '56-60': 3, '61-70': 4, '>70': 5}).astype(int)\n",
    "    df['chol-group'] = df['chol-group'].map({'101-200': 0, '201-300': 1,'301-400': 2, '401-500': 3, '>500': 4}).astype(int)\n",
    "    df['trestbps-group'] = df['trestbps-group'].map({'91-110': 0, '111-130': 1,'131-150': 2, '151-170': 3, '>170': 4}).astype(int)\n",
    "    df['thalach-group'] = df['thalach-group'].map({'71-100': 0, '101-125': 1,'126-150': 2, '151-175': 3, '>175': 4}).astype(int)\n",
    "\n",
    "    return df"
   ]
  },
  {
   "cell_type": "code",
   "execution_count": 69,
   "metadata": {},
   "outputs": [],
   "source": [
    "df = pre_processing(df)\n",
    "df = mapping (df , 0)\n"
   ]
  },
  {
   "cell_type": "code",
   "execution_count": 70,
   "metadata": {},
   "outputs": [],
   "source": [
    "X = df.drop('disease', axis=1)\n",
    "y = df['disease']\n",
    "# Splitting to training and testing\n",
    "X_train, X_test, y_train, y_test = train_test_split(X, y, test_size=0.2)"
   ]
  },
  {
   "cell_type": "code",
   "execution_count": 71,
   "metadata": {},
   "outputs": [
    {
     "name": "stdout",
     "output_type": "stream",
     "text": [
      "Accuracy is  81.63265306122449\n"
     ]
    }
   ],
   "source": [
    "data_clf = GaussianNB()\n",
    "data_clf.fit(X_train,y_train)\n",
    "y_pred = data_clf.predict(X_test)\n",
    "print(\"Accuracy is \", accuracy_score(y_test,y_pred)*100)"
   ]
  },
  {
   "cell_type": "code",
   "execution_count": 72,
   "metadata": {},
   "outputs": [],
   "source": [
    "df_test=pd.read_csv(\"Dataset3_Unknown.csv\")\n",
    "# filling missing data\n",
    "column_names=df_test.columns \n",
    "for a in column_names:\n",
    "    df_test[a]=df_test[a].replace('?', np.NaN)\n",
    "    \n",
    "df_test= df_test.apply(lambda x: x.fillna(x.value_counts().index[0]))"
   ]
  },
  {
   "cell_type": "code",
   "execution_count": 73,
   "metadata": {},
   "outputs": [],
   "source": [
    "df_test = pre_processing(df_test)\n",
    "df_test = mapping(df_test ,1 )"
   ]
  },
  {
   "cell_type": "code",
   "execution_count": 74,
   "metadata": {},
   "outputs": [],
   "source": [
    "y_pred_test=data_clf.predict(df_test)"
   ]
  },
  {
   "cell_type": "code",
   "execution_count": 75,
   "metadata": {},
   "outputs": [],
   "source": [
    "np.savetxt(\"bayes_predict.csv\", y_pred_test, delimiter=\",\")\n"
   ]
  },
  {
   "cell_type": "code",
   "execution_count": null,
   "metadata": {},
   "outputs": [],
   "source": [
    "\n"
   ]
  }
 ],
 "metadata": {
  "kernelspec": {
   "display_name": "Python 3",
   "language": "python",
   "name": "python3"
  },
  "language_info": {
   "codemirror_mode": {
    "name": "ipython",
    "version": 3
   },
   "file_extension": ".py",
   "mimetype": "text/x-python",
   "name": "python",
   "nbconvert_exporter": "python",
   "pygments_lexer": "ipython3",
   "version": "3.6.10"
  }
 },
 "nbformat": 4,
 "nbformat_minor": 4
}
